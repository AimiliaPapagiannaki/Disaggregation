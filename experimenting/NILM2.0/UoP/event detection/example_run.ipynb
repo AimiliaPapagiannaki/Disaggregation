{
 "cells": [
  {
   "cell_type": "code",
   "execution_count": null,
   "metadata": {},
   "outputs": [],
   "source": [
    "import events_simulation\n",
    "import matplotlib.pyplot as plt\n",
    "import pandas as pd"
   ]
  },
  {
   "cell_type": "code",
   "execution_count": null,
   "metadata": {},
   "outputs": [],
   "source": [
    "filename='sample.csv'\n",
    "df = events_simulation.event_detection(filename)\n",
    "df.head()"
   ]
  },
  {
   "cell_type": "code",
   "execution_count": null,
   "metadata": {
    "scrolled": true
   },
   "outputs": [],
   "source": [
    "tmp = df.iloc[:20000]\n",
    "fig, ax1 = plt.subplots(figsize=(14, 7.0))\n",
    "plt.setp(ax1.xaxis.get_majorticklabels(), rotation=45)\n",
    "color = 'tab:cyan'\n",
    "ax1.plot(tmp.index, tmp['pwrA'], '-', color=color)\n",
    "ax1.plot(tmp.index, tmp['apwrA'], '-', color='tab:orange')\n",
    "ax1.tick_params(axis='y', labelcolor=color)\n",
    "ax1.set_ylabel('Active power [Watts]', color=color)\n",
    "ax1.set_xlabel('Time', color=color)\n",
    "\n",
    "plt.legend(['Active power','Apparent power'])\n",
    "\n",
    "# Add below threshold markers\n",
    "cl0 = tmp['event']==0\n",
    "cl1 = tmp['event']==1\n",
    "\n",
    "ax1.scatter(tmp.index[cl1], tmp['pwrA'][cl1], color='red') \n",
    "\n",
    "\n",
    "\n"
   ]
  },
  {
   "cell_type": "code",
   "execution_count": null,
   "metadata": {},
   "outputs": [],
   "source": []
  }
 ],
 "metadata": {
  "kernelspec": {
   "display_name": "Python 3.8",
   "language": "python",
   "name": "python3.8"
  },
  "language_info": {
   "codemirror_mode": {
    "name": "ipython",
    "version": 3
   },
   "file_extension": ".py",
   "mimetype": "text/x-python",
   "name": "python",
   "nbconvert_exporter": "python",
   "pygments_lexer": "ipython3",
   "version": "3.8.9"
  }
 },
 "nbformat": 4,
 "nbformat_minor": 2
}
