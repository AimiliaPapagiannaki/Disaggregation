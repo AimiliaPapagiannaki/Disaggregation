{
 "cells": [
  {
   "cell_type": "code",
   "execution_count": 36,
   "metadata": {},
   "outputs": [],
   "source": [
    "import pandas as pd\n",
    "import numpy as np\n",
    "import matplotlib.pyplot as plt\n",
    "import scipy as sp\n",
    "import requests\n",
    "import os\n",
    "import scipy.signal\n",
    "import scipy.stats\n",
    "from scipy import stats as s\n",
    "\n",
    "from sklearn.tree import DecisionTreeClassifier\n",
    "from sklearn.metrics import mean_absolute_error\n",
    "from sklearn.model_selection import cross_val_score\n",
    "from sklearn.metrics import accuracy_score\n",
    "from sklearn.model_selection import train_test_split\n",
    "from sklearn.model_selection import StratifiedKFold\n",
    "from sklearn.model_selection import train_test_split\n",
    "from sklearn.neighbors import KNeighborsClassifier\n",
    "from sklearn import preprocessing\n",
    "from sklearn.model_selection import KFold\n",
    "from sklearn.ensemble import GradientBoostingClassifier\n",
    "import pickle\n",
    "from dateutil.relativedelta import relativedelta\n",
    "import time\n",
    "from dateutil.tz import gettz\n",
    "from datetime import timedelta\n",
    "import calendar\n",
    "import datetime\n",
    "# from hyperopt import STATUS_OK, Trials, fmin, hp, tpe\n",
    "# import xgboost as xgb\n",
    "%matplotlib inline\n",
    "pd.set_option('display.max_rows', 50000)\n",
    "pd.set_option('display.max_columns', 50000)\n",
    "\n",
    "step = 10\n"
   ]
  },
  {
   "cell_type": "code",
   "execution_count": 14,
   "metadata": {},
   "outputs": [
    {
     "data": {
      "text/plain": [
       "{'coffee': 'coffee.csv',\n",
       " 'dish': 'dish.csv',\n",
       " 'entilator': 'entilator.csv',\n",
       " 'freezer': 'freezer.csv',\n",
       " 'fridge': 'fridge.csv',\n",
       " 'heatpumpA': 'heatpumpA.csv',\n",
       " 'heatpumpB': 'heatpumpB.csv',\n",
       " 'heatpumpC': 'heatpumpC.csv',\n",
       " 'iron': 'iron.csv',\n",
       " 'ironpress': 'ironpress.csv',\n",
       " 'oven': 'oven.csv',\n",
       " 'stove': 'stove.csv',\n",
       " 'vacuum': 'vacuum.csv',\n",
       " 'wash': 'wash.csv'}"
      ]
     },
     "execution_count": 14,
     "metadata": {},
     "output_type": "execute_result"
    }
   ],
   "source": [
    "path = '../../Desktop/windowsshare/stelios_data/plug_data/'\n",
    "values = os.listdir(path)\n",
    "keys = [i.split('.', 1)[0] for i in values]\n",
    "drn = dict(zip(keys,values))\n",
    "drn"
   ]
  },
  {
   "cell_type": "code",
   "execution_count": 15,
   "metadata": {},
   "outputs": [],
   "source": [
    "drA = [drn['entilator'],drn['fridge'],drn['heatpumpA'],drn['oven'],drn['stove'],drn['vacuum'],drn['wash']]\n",
    "drB = [drn['coffee'],drn['dish'],drn['freezer'],drn['heatpumpB']]\n",
    "drC = [drn['heatpumpC'],drn['iron'],drn['ironpress']]\n",
    "\n",
    "files = [drA,drB,drC]"
   ]
  },
  {
   "cell_type": "code",
   "execution_count": 17,
   "metadata": {},
   "outputs": [
    {
     "name": "stdout",
     "output_type": "stream",
     "text": [
      "Trained model 1\n",
      "Trained model 2\n",
      "Trained model 3\n"
     ]
    }
   ],
   "source": [
    "m=0\n",
    "for dr in (files):\n",
    "\n",
    "    for i in range(len(dr)):\n",
    "\n",
    "        globals()['df%s' % i] = pd.read_csv(path+dr[i])\n",
    "        if np.mod(globals()['df%s' % i].shape[0],step)>0:\n",
    "            globals()['df%s' % i] = globals()['df%s' % i].iloc[:-np.mod(globals()['df%s' % i].shape[0],step)]\n",
    "        if 'ts' in globals()['df%s' % i].columns:\n",
    "            globals()['df%s' % i].drop('ts',axis=1, inplace=True)\n",
    "    #     print(globals()['df%s' % i].columns)\n",
    "        globals()['df%s' % i].columns = ['pwr','apwr','rpwr','label']\n",
    "        globals()['df%s' % i].drop('apwr',axis=1, inplace=True)\n",
    "        \n",
    "    dfs = []\n",
    "    for i in range(len(dr)):\n",
    "        dfs.append(globals()['df%s' % i])\n",
    "\n",
    "    cols = ['pwr','rpwr']\n",
    "\n",
    "    dfagg = pd.DataFrame([])\n",
    "\n",
    "    for i in range(len(dfs)):\n",
    "    # for i in range(2,3):\n",
    "        dfcurr = dfs[i].copy()\n",
    "        dfcurr = dfcurr[dfcurr['label']==1]\n",
    "        dfcurr['label'] = i\n",
    "        dfagg = pd.concat([dfagg,dfcurr])\n",
    "    \n",
    "    df_pr = pd.DataFrame([])\n",
    "    for col in cols:\n",
    "        df_pr[col+'_mean'] = dfagg[col].groupby(np.arange(len(dfagg))//step).mean()\n",
    "        df_pr[col+'_std'] = dfagg[col].groupby(np.arange(len(dfagg))//step).std()\n",
    "        df_pr[col+'_min'] = dfagg[col].groupby(np.arange(len(dfagg))//step).min()\n",
    "        df_pr[col+'_max'] = dfagg[col].groupby(np.arange(len(dfagg))//step).max()\n",
    "    df_pr['label'] = dfagg['label'].groupby(np.arange(len(dfagg))//step).agg(lambda x:x.value_counts().index[0])\n",
    "    df_pr = df_pr.dropna()\n",
    "\n",
    "    y = df_pr['label'].values\n",
    "    X_hd = df_pr.drop('label',axis=1)\n",
    "    clf = GradientBoostingClassifier(random_state=0)\n",
    "    clf = clf.fit(X_hd,y)\n",
    "\n",
    "    filename = '../../Desktop/windowsshare/stelios_data/aggmodels/mdl%s' % m+'.sav'\n",
    "    pickle.dump(clf, open(filename, 'wb'))\n",
    "    m = m+1\n",
    "    print('Trained model %s' %m)\n",
    "    "
   ]
  },
  {
   "cell_type": "code",
   "execution_count": 18,
   "metadata": {},
   "outputs": [],
   "source": [
    "\n",
    "\n",
    "#\n",
    "\n",
    "def read_data(devid, acc_token, address, start_time, end_time, descriptors):\n",
    "\n",
    "\n",
    "    r2 = requests.get(\n",
    "        url=address + \"/api/plugins/telemetry/DEVICE/\" + devid + \"/values/timeseries?keys=\" + descriptors + \"&startTs=\" + start_time + \"&endTs=\" + end_time + \"&agg=NONE&limit=1000000\",\n",
    "        headers={'Content-Type': 'application/json', 'Accept': '*/*', 'X-Authorization': acc_token}).json()\n",
    "    if r2:\n",
    "        df = pd.DataFrame([])\n",
    "\n",
    "        for desc in r2.keys():\n",
    "            df1 = pd.DataFrame(r2[desc])\n",
    "            df1.set_index('ts', inplace=True)\n",
    "            df1.columns = [str(desc)]\n",
    "            df = pd.concat([df, df1], axis=1)\n",
    "\n",
    "        \n",
    "        if df.empty == False:\n",
    "\n",
    "            df.reset_index(drop=False, inplace=True)\n",
    "            df = df.sort_values(by=['ts'])\n",
    "            df.reset_index(drop=True, inplace=True)\n",
    "            df.set_index('ts', inplace=True, drop=True)\n",
    "            for col in df.columns:\n",
    "                df[col] = df[col].astype('float')\n",
    "\n",
    "            df = df.groupby(df.index).max()\n",
    "            \n",
    "        else:\n",
    "            df = pd.DataFrame([])\n",
    "    else:\n",
    "        df = pd.DataFrame([])\n",
    "        print('Empty json!')\n",
    "    return df\n"
   ]
  },
  {
   "cell_type": "code",
   "execution_count": 24,
   "metadata": {},
   "outputs": [
    {
     "name": "stdout",
     "output_type": "stream",
     "text": [
      "<class 'pandas.core.frame.DataFrame'>\n",
      "DatetimeIndex: 218595 entries, 2020-06-04 00:37:05.194000+03:00 to 2020-06-04 23:23:58.971000+03:00\n",
      "Data columns (total 2 columns):\n",
      "pwrA     218595 non-null float64\n",
      "rpwrA    218595 non-null float64\n",
      "dtypes: float64(2)\n",
      "memory usage: 5.0 MB\n"
     ]
    }
   ],
   "source": [
    "phase = 'A'\n",
    "mdlpath = '../../Desktop/windowsshare/stelios_data/aggmodels/'\n",
    "maphase = {'A':['pwrA','rpwrA'],'B':['pwrB','rpwrB'],'C':['pwrC','rpwrC']}\n",
    "mdlphase = {'A':['mdl0'],'B':['mdl1'],'C':['mdl2']}\n",
    "\n",
    "devid = '71749ca0-9a6a-11ea-8d54-4d0d5d00237b'\n",
    "descriptors = maphase[phase][0]+','+maphase[phase][1]\n",
    "start_time = [1591218000000]\n",
    "end_time = [1591304399000]\n",
    "\n",
    "for i in range(0,1):\n",
    "\n",
    "    address = \"http://52.77.235.183:8080\"\n",
    "\n",
    "    r = requests.post(address + \"/api/auth/login\",\n",
    "                      json={'username': 'tenant@thingsboard.org', 'password': 'tenant'}).json()\n",
    "\n",
    "    acc_token = 'Bearer' + ' ' + r['token']\n",
    "\n",
    "    df = read_data(devid, acc_token, address, str(start_time[i]), str(end_time[i]), descriptors)     \n",
    "df['ts'] = pd.to_datetime(df.index,utc=True, unit='ms')\n",
    "df['ts'] = df['ts'].dt.tz_convert('Europe/Athens')\n",
    "\n",
    "df.set_index('ts',inplace=True, drop=True)\n",
    "df.info()"
   ]
  },
  {
   "cell_type": "code",
   "execution_count": 37,
   "metadata": {},
   "outputs": [],
   "source": [
    "step=10\n",
    "# events = [[None for x in range(int(np.round(df.shape[0]/140)))] for y in range(2)] \n",
    "events = []\n",
    "nums = []\n",
    "state = []\n",
    "ev_ts = []\n",
    "\n",
    "ln=0\n",
    "i=0\n",
    "while ln<=df.shape[0]-141:\n",
    "    dt1 = df.index[ln]\n",
    "    dt2 = df.index[ln]+datetime.timedelta(milliseconds=20*140)\n",
    "    ln = ln+df[dt1:dt2].shape[0]\n",
    "    \n",
    "    slot = df[maphase[phase]].copy()\n",
    "    slot = slot[dt1:dt2]\n",
    "    if slot.shape[0]>100:\n",
    "        tsm = slot.index[-1]\n",
    "        slot.columns = ['pwr','rpwr']\n",
    "        slot.reset_index(inplace=True, drop=True)\n",
    "        steady = slot.iloc[:10].copy()\n",
    "        change = slot.iloc[-100:].copy()\n",
    "        change.reset_index(inplace=True, drop=True)\n",
    "\n",
    "        # discover if appliance has been added or removed\n",
    "        if (np.mean(change['pwr'].iloc[-20:-10])-np.mean(steady['pwr']))>0:\n",
    "            st = 'added'\n",
    "        else:\n",
    "            st = 'removed'\n",
    "\n",
    "        # subtract active & reactive power of steady state\n",
    "        change['pwr'] = np.abs(change['pwr']-np.mean(steady['pwr']))\n",
    "        change['rpwr'] = np.abs(change['rpwr']-np.mean(steady['rpwr']))\n",
    "        change.dropna(inplace=True)\n",
    "\n",
    "        cols = ['pwr','rpwr']\n",
    "        \n",
    "        df_pr = pd.DataFrame([])\n",
    "        for col in cols:\n",
    "            df_pr[col+'_mean'] = change[col].groupby(np.arange(len(change))//step).mean()\n",
    "            df_pr[col+'_std'] = change[col].groupby(np.arange(len(change))//step).std()\n",
    "            df_pr[col+'_min'] = change[col].groupby(np.arange(len(change))//step).min()\n",
    "            df_pr[col+'_max'] = change[col].groupby(np.arange(len(change))//step).max()\n",
    "        df_pr.dropna(inplace=True)\n",
    "        \n",
    "        assigned = False\n",
    "        # run all models for this phase\n",
    "        filename = mdlpath+str(mdlphase[phase][0])+'.sav'\n",
    "        mdl = pickle.load(open(filename, 'rb'))\n",
    "        y_pred = mdl.predict(df_pr)\n",
    "            \n",
    "        if np.sum(y_pred)>=0.5*len(y_pred):\n",
    "            if assigned==False: \n",
    "                events.append(int(s.mode(y_pred)[0]))\n",
    "                ev_ts.append(tsm)\n",
    "                state.append(st)\n",
    "                assigned=True\n",
    "\n",
    "#                     print('i %i length %i num %i:' %(i,len(events),nums[i]))\n",
    "                i=i+1\n",
    "            \n",
    "           \n",
    "\n",
    "    \n"
   ]
  },
  {
   "cell_type": "code",
   "execution_count": 38,
   "metadata": {},
   "outputs": [
    {
     "data": {
      "text/plain": [
       "6    1001\n",
       "4     370\n",
       "3      87\n",
       "1      65\n",
       "2      23\n",
       "5       5\n",
       "0       2\n",
       "Name: appl, dtype: int64"
      ]
     },
     "execution_count": 38,
     "metadata": {},
     "output_type": "execute_result"
    }
   ],
   "source": [
    "ev = pd.DataFrame([])\n",
    "ev['appl'] = events\n",
    "ev['state'] = state\n",
    "ev['ts'] = ev_ts\n",
    "ev=ev.dropna()\n",
    "ev.set_index('ts',inplace=True)\n",
    "print(ev['appl'].value_counts())\n",
    "ev = ev.resample('60S').max()\n"
   ]
  },
  {
   "cell_type": "code",
   "execution_count": 40,
   "metadata": {},
   "outputs": [],
   "source": []
  },
  {
   "cell_type": "code",
   "execution_count": 39,
   "metadata": {},
   "outputs": [
    {
     "name": "stdout",
     "output_type": "stream",
     "text": [
      "Another hour...\n",
      "Another hour...\n",
      "Another hour...\n",
      "Another hour...\n",
      "Another hour...\n",
      "Another hour...\n",
      "Another hour...\n",
      "Another hour...\n",
      "Another hour...\n",
      "Another hour...\n",
      "Another hour...\n",
      "Another hour...\n",
      "Another hour...\n",
      "Another hour...\n",
      "Another hour...\n",
      "Another hour...\n",
      "Another hour...\n",
      "Another hour...\n",
      "Another hour...\n",
      "Another hour...\n",
      "Another hour...\n",
      "Another hour...\n",
      "Another hour...\n",
      "Another hour...\n"
     ]
    }
   ],
   "source": [
    "# download full house data\n",
    "devid = '4353f360-98d6-11ea-8d54-4d0d5d00237b'\n",
    "descriptors = 'pwrA,pwrB,pwrC'\n",
    "\n",
    "\n",
    "address = \"http://52.77.235.183:8080\"\n",
    "\n",
    "r = requests.post(address + \"/api/auth/login\",\n",
    "                  json={'username': 'tenant@thingsboard.org', 'password': 'tenant'}).json()\n",
    "\n",
    "# acc_token is the token to be used in the next request\n",
    "acc_token = 'Bearer' + ' ' + r['token']\n",
    "\n",
    "\n",
    "timediff = int(end_time[0])-int(start_time[0])\n",
    "\n",
    "# if difference between end and start time is greater than 15 minutes, split data \n",
    "\n",
    "summary = pd.DataFrame([])\n",
    "svec = np.arange(int(start_time[0]),int(end_time[0]),3600000)\n",
    "for st in svec:\n",
    "    print('Another hour...')\n",
    "    en = st+3600000-1\n",
    "\n",
    "    if int(end_time[0])-en<=0: en = int(end_time[0])\n",
    "#         print('start and end of iteration:',st,en)\n",
    "\n",
    "    tmp = read_data(devid, acc_token, address, str(st), str(en), descriptors)\n",
    "    if not tmp.empty:\n",
    "        summary = pd.concat([summary,tmp])\n",
    "\n",
    "\n"
   ]
  },
  {
   "cell_type": "code",
   "execution_count": 24,
   "metadata": {},
   "outputs": [],
   "source": [
    "# summary = summary[['pwrA','cnrgA']]\n",
    "summary['ts'] = pd.to_datetime(summary.index,utc=True, unit='ms')\n",
    "summary['ts'] = summary['ts'].dt.tz_convert('Europe/Athens')\n",
    "\n",
    "summary.set_index('ts',inplace=True, drop=True)\n",
    "# summary = summary.resample('1S').mean()\n",
    "summary = summary.resample('60S').mean()\n",
    "\n"
   ]
  },
  {
   "cell_type": "code",
   "execution_count": 30,
   "metadata": {},
   "outputs": [
    {
     "name": "stdout",
     "output_type": "stream",
     "text": [
      "<class 'pandas.core.frame.DataFrame'>\n",
      "DatetimeIndex: 692 entries, 2020-06-11 00:00:00+03:00 to 2020-06-11 11:31:00+03:00\n",
      "Freq: 60S\n",
      "Data columns (total 3 columns):\n",
      "pwrA     692 non-null float64\n",
      "appl     116 non-null float64\n",
      "state    116 non-null object\n",
      "dtypes: float64(2), object(1)\n",
      "memory usage: 41.6+ KB\n"
     ]
    }
   ],
   "source": [
    "\n",
    "ndf = pd.concat([summary,ev],axis=1)\n",
    "ndf.info()"
   ]
  },
  {
   "cell_type": "code",
   "execution_count": 26,
   "metadata": {},
   "outputs": [
    {
     "data": {
      "text/plain": [
       "['entilator.csv',\n",
       " 'fridge.csv',\n",
       " 'heatpumpA.csv',\n",
       " 'oven.csv',\n",
       " 'stove.csv',\n",
       " 'vacuum.csv',\n",
       " 'wash.csv']"
      ]
     },
     "execution_count": 26,
     "metadata": {},
     "output_type": "execute_result"
    }
   ],
   "source": [
    "dr"
   ]
  },
  {
   "cell_type": "code",
   "execution_count": 28,
   "metadata": {},
   "outputs": [],
   "source": [
    "d = {0:'entilator',1:'fridge',2:'heatpumpA',3:'oven',4:'stove',5:'vacuum',6:'wash'}"
   ]
  },
  {
   "cell_type": "code",
   "execution_count": 32,
   "metadata": {},
   "outputs": [
    {
     "data": {
      "text/plain": [
       "Text(0.5, 1.0, 'Appliances detected in phase B within a whole day')"
      ]
     },
     "execution_count": 32,
     "metadata": {},
     "output_type": "execute_result"
    },
    {
     "data": {
      "image/png": "[encoded data removed]",
      "text/plain": [
       "<Figure size 1080x504 with 1 Axes>"
      ]
     },
     "metadata": {
      "needs_background": "light"
     },
     "output_type": "display_data"
    }
   ],
   "source": [
    "pwr = maphase[phase][0]\n",
    "fig = plt.figure(figsize=[15,7])\n",
    "plt.plot(ndf.index,ndf[pwr],'c',alpha=0.7)#,df2.index,df2['rpwrB'])\n",
    "\n",
    "colors = ['orange','green','red','orchid','deepskyblue','aqua','blueviolet']\n",
    "\n",
    "for i in range(0,len)\n",
    "cl = ndf['appl']==0\n",
    "cl1 = ndf['appl']==1\n",
    "cl2 = ndf['appl']==2\n",
    "cl3 = ndf['appl']==3\n",
    "cl4 = ndf['appl']==4\n",
    "cl5 = ndf['appl']==5\n",
    "cl6 = ndf['appl']==6\n",
    "\n",
    "\n",
    "\n",
    "plt.scatter(ndf.index[cl], ndf[pwr][cl], color='orange',zorder=10) \n",
    "plt.scatter(ndf.index[cl1], ndf[pwr][cl1], color='green') \n",
    "plt.scatter(ndf.index[cl2], ndf[pwr][cl2], color='red',zorder=10) \n",
    "plt.scatter(ndf.index[cl3], ndf[pwr][cl3], color='orchid',zorder=10) \n",
    "plt.scatter(ndf.index[cl4], ndf[pwr][cl4], color='blue',zorder=10)\n",
    "plt.scatter(ndf.index[cl5], ndf[pwr][cl5], color='aqua',zorder=10)\n",
    "plt.scatter(ndf.index[cl6], ndf[pwr][cl6], color='purple',zorder=10)\n",
    "\n",
    "plt.legend(['totalPower',d[0],d[1],d[2],d[3],d[4],d[5],d[6]])\n",
    "plt.title('Appliances detected in phase B within a whole day')"
   ]
  },
  {
   "cell_type": "code",
   "execution_count": null,
   "metadata": {},
   "outputs": [],
   "source": []
  }
 ],
 "metadata": {
  "kernelspec": {
   "display_name": "Python 3",
   "language": "python",
   "name": "python3"
  },
  "language_info": {
   "codemirror_mode": {
    "name": "ipython",
    "version": 3
   },
   "file_extension": ".py",
   "mimetype": "text/x-python",
   "name": "python",
   "nbconvert_exporter": "python",
   "pygments_lexer": "ipython3",
   "version": "3.7.5"
  }
 },
 "nbformat": 4,
 "nbformat_minor": 2
}
