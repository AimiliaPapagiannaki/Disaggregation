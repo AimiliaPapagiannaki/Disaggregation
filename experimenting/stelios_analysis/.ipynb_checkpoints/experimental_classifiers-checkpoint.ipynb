{
 "cells": [
  {
   "cell_type": "code",
   "execution_count": 1,
   "metadata": {},
   "outputs": [],
   "source": [
    "import pandas as pd\n",
    "import numpy as np\n",
    "import matplotlib.pyplot as plt\n",
    "import scipy as sp\n",
    "import requests\n",
    "import os\n",
    "import scipy.signal\n",
    "import scipy.stats\n",
    "from sklearn.tree import DecisionTreeClassifier\n",
    "from sklearn.metrics import mean_absolute_error\n",
    "from sklearn.model_selection import cross_val_score\n",
    "from sklearn.metrics import accuracy_score\n",
    "from sklearn.model_selection import train_test_split\n",
    "from sklearn.model_selection import StratifiedKFold\n",
    "from sklearn.model_selection import train_test_split\n",
    "from sklearn.neighbors import KNeighborsClassifier\n",
    "from sklearn import preprocessing\n",
    "from sklearn.model_selection import KFold\n",
    "import pickle\n",
    "from scipy.stats import kurtosis\n",
    "from dateutil.relativedelta import relativedelta\n",
    "import time\n",
    "from dateutil.tz import gettz\n",
    "from datetime import timedelta\n",
    "import calendar\n",
    "import datetime\n",
    "# from hyperopt import STATUS_OK, Trials, fmin, hp, tpe\n",
    "# import xgboost as xgb\n",
    "%matplotlib inline\n",
    "pd.set_option('display.max_rows', 50000)\n",
    "pd.set_option('display.max_columns', 50000)\n",
    "\n",
    "step = 20\n"
   ]
  },
  {
   "cell_type": "code",
   "execution_count": 2,
   "metadata": {},
   "outputs": [
    {
     "name": "stdout",
     "output_type": "stream",
     "text": [
      "['coffee', 'dish', 'entilator', 'freezer', 'fridge', 'heatpumpA', 'heatpumpB', 'heatpumpC', 'iron', 'ironpress', 'oven', 'PC', 'stove', 'vacuum', 'wash']\n"
     ]
    }
   ],
   "source": [
    "path = '../../Desktop/windowsshare/stelios_data/plug_data/'\n",
    "dr = os.listdir(path)\n",
    "apps = [i.split('.', 1)[0] for i in dr]\n",
    "# appsA = [apps[2],apps[4],apps[5],apps[10],apps[12],apps[13],apps[14]]\n",
    "# appsB = [apps[0],apps[1],apps[3],apps[6]]\n",
    "# appsC = [apps[7],apps[8],apps[9],apps[11]]\n",
    "# appsall = [appsA,appsB,appsC]\n",
    "print(apps)"
   ]
  },
  {
   "cell_type": "code",
   "execution_count": 4,
   "metadata": {},
   "outputs": [],
   "source": [
    "for i in range(len(dr)):\n",
    "    globals()['df%s' % i] = pd.read_csv(path+dr[i])\n",
    "    if np.mod(globals()['df%s' % i].shape[0],step)>0:\n",
    "        globals()['df%s' % i] = globals()['df%s' % i].iloc[:-np.mod(globals()['df%s' % i].shape[0],step)]\n",
    "    if 'ts' in globals()['df%s' % i].columns:\n",
    "        globals()['df%s' % i].drop('ts',axis=1, inplace=True)\n",
    "    if 'Unnamed: 0' in globals()['df%s' % i].columns:\n",
    "        globals()['df%s' % i].drop('Unnamed: 0',axis=1, inplace=True)\n",
    "#     print(globals()['df%s' % i].columns)\n",
    "    globals()['df%s' % i].columns = ['pwr','apwr','rpwr','label']\n",
    "    globals()['df%s' % i].drop('apwr',axis=1, inplace=True)\n",
    "    \n",
    "        "
   ]
  },
  {
   "cell_type": "code",
   "execution_count": 5,
   "metadata": {},
   "outputs": [],
   "source": [
    "dfs = []\n",
    "for i in range(len(dr)):\n",
    "    dfs.append(globals()['df%s' % i])"
   ]
  },
  {
   "cell_type": "code",
   "execution_count": 6,
   "metadata": {},
   "outputs": [
    {
     "name": "stdout",
     "output_type": "stream",
     "text": [
      "       pwr    rpwr  label\n",
      "0 -0.17093 -0.2318      0\n",
      "1 -0.20393  0.1961      0\n",
      "2 -0.25343 -0.3934      0\n",
      "3 -0.25343  0.3144      0\n",
      "4 -0.23693  0.1127      0\n"
     ]
    }
   ],
   "source": [
    "print(dfs[0].head())"
   ]
  },
  {
   "cell_type": "code",
   "execution_count": 5,
   "metadata": {},
   "outputs": [
    {
     "data": {
      "text/plain": [
       "121.86338234597967"
      ]
     },
     "execution_count": 5,
     "metadata": {},
     "output_type": "execute_result"
    }
   ],
   "source": [
    "avpwr = dict()\n",
    "np.mean(dfs[14].loc[dfs[14]['label']==1,'pwr'])"
   ]
  },
  {
   "cell_type": "code",
   "execution_count": 13,
   "metadata": {},
   "outputs": [],
   "source": [
    "avpwr = dict()\n",
    "# calculate average active power of each appliance\n",
    "for i in range(len(dfs)):\n",
    "    avpwr[apps[i]] = np.mean(dfs[i].loc[dfs[i]['label']==1,'pwr'])\n",
    "avpwr = pd.DataFrame(avpwr.items())\n",
    "avpwr.columns = ['app','pwr']\n",
    "avpwr.to_csv('avg_pwr.csv',index = False)"
   ]
  },
  {
   "cell_type": "code",
   "execution_count": null,
   "metadata": {
    "scrolled": true
   },
   "outputs": [
    {
     "name": "stderr",
     "output_type": "stream",
     "text": [
      "/usr/local/lib/python3.7/dist-packages/pandas/core/indexing.py:205: SettingWithCopyWarning: \n",
      "A value is trying to be set on a copy of a slice from a DataFrame\n",
      "\n",
      "See the caveats in the documentation: http://pandas.pydata.org/pandas-docs/stable/user_guide/indexing.html#returning-a-view-versus-a-copy\n",
      "  self._setitem_with_indexer(indexer, value)\n"
     ]
    }
   ],
   "source": [
    "cols = ['pwr','rpwr']\n",
    "\n",
    "for i in range(len(dfs)):\n",
    "# for i in range(2,3):\n",
    "    dfcurr = dfs[i].copy()\n",
    "    dfcurr = pd.concat(sorted(dfs, key=lambda df: df is dfs[i],reverse=True))\n",
    "    dfcurr['label'].iloc[dfs[i].shape[0]+1:]=0\n",
    "    \n",
    "    df_pr = pd.DataFrame([])\n",
    "    for col in cols:\n",
    "        df_pr[col+'_mean'] = dfcurr[col].groupby(np.arange(len(dfcurr))//step).mean()\n",
    "        df_pr[col+'_std'] = dfcurr[col].groupby(np.arange(len(dfcurr))//step).std()\n",
    "        df_pr[col+'_min'] = dfcurr[col].groupby(np.arange(len(dfcurr))//step).min()\n",
    "        df_pr[col+'_max'] = dfcurr[col].groupby(np.arange(len(dfcurr))//step).max()\n",
    "    df_pr['label'] = dfcurr['label'].groupby(np.arange(len(dfcurr))//step).agg(lambda x:x.value_counts().index[0])\n",
    "    df_pr = df_pr.dropna()\n",
    "    \n",
    "    y = df_pr['label'].values\n",
    "    X_hd = df_pr.drop('label',axis=1)\n",
    "    # X = preprocessing.MinMaxScaler().fit_transform(X)\n",
    "\n",
    "    # split into training and test sets and train the model\n",
    "\n",
    "    # mdl_hd = KNeighborsClassifier(n_neighbors=5)\n",
    "    globals()['%s' % apps[i]] = DecisionTreeClassifier(random_state=0,max_depth=50)\n",
    "#     X_train, X_test, y_train, y_test = train_test_split(X_hd, y,\n",
    "#                                                         stratify=y, \n",
    "#                                                         test_size=0.25)\n",
    "\n",
    "    globals()['%s' % apps[i]] = globals()['%s' % apps[i]].fit(X_hd,y)\n",
    "\n",
    "#     filename = '../../Desktop/windowsshare/stelios_data/models/%s' % apps[i]+'.sav'\n",
    "    filename = '../../Desktop/windowsshare/stelios_data/models20step/%s' % apps[i]+'.sav'\n",
    "    pickle.dump(globals()['%s' % apps[i]], open(filename, 'wb'))\n",
    "\n",
    "    y_pred = globals()['%s' % apps[i]].predict(X_hd)\n",
    "    print('%s finished',apps[i])"
   ]
  },
  {
   "cell_type": "code",
   "execution_count": 9,
   "metadata": {},
   "outputs": [
    {
     "data": {
      "text/plain": [
       "<matplotlib.collections.PathCollection at 0x7fdd81593090>"
      ]
     },
     "execution_count": 9,
     "metadata": {},
     "output_type": "execute_result"
    },
    {
     "data": {
      "image/png": "[encoded data removed]",
      "text/plain": [
       "<Figure size 1080x504 with 1 Axes>"
      ]
     },
     "metadata": {
      "needs_background": "light"
     },
     "output_type": "display_data"
    }
   ],
   "source": [
    "tmp = globals()['df%s' % 4]\n",
    "fig = plt.figure(figsize=[15,7])\n",
    "plt.plot(tmp.index,tmp['pwr'])\n",
    "\n",
    "\n",
    "cl = tmp['label']==1\n",
    "\n",
    "plt.scatter(tmp.index[cl], tmp['pwr'][cl], color='red') "
   ]
  },
  {
   "cell_type": "code",
   "execution_count": 6,
   "metadata": {},
   "outputs": [
    {
     "data": {
      "text/html": [
       "<div>\n",
       "<style scoped>\n",
       "    .dataframe tbody tr th:only-of-type {\n",
       "        vertical-align: middle;\n",
       "    }\n",
       "\n",
       "    .dataframe tbody tr th {\n",
       "        vertical-align: top;\n",
       "    }\n",
       "\n",
       "    .dataframe thead th {\n",
       "        text-align: right;\n",
       "    }\n",
       "</style>\n",
       "<table border=\"1\" class=\"dataframe\">\n",
       "  <thead>\n",
       "    <tr style=\"text-align: right;\">\n",
       "      <th></th>\n",
       "      <th>pwr</th>\n",
       "      <th>rpwr</th>\n",
       "      <th>label</th>\n",
       "    </tr>\n",
       "  </thead>\n",
       "  <tbody>\n",
       "    <tr>\n",
       "      <td>count</td>\n",
       "      <td>721431.000000</td>\n",
       "      <td>721431.000000</td>\n",
       "      <td>721431.0</td>\n",
       "    </tr>\n",
       "    <tr>\n",
       "      <td>mean</td>\n",
       "      <td>145.695898</td>\n",
       "      <td>91.867086</td>\n",
       "      <td>1.0</td>\n",
       "    </tr>\n",
       "    <tr>\n",
       "      <td>std</td>\n",
       "      <td>41.609168</td>\n",
       "      <td>39.781572</td>\n",
       "      <td>0.0</td>\n",
       "    </tr>\n",
       "    <tr>\n",
       "      <td>min</td>\n",
       "      <td>20.278635</td>\n",
       "      <td>-81.806315</td>\n",
       "      <td>1.0</td>\n",
       "    </tr>\n",
       "    <tr>\n",
       "      <td>25%</td>\n",
       "      <td>140.624265</td>\n",
       "      <td>100.314385</td>\n",
       "      <td>1.0</td>\n",
       "    </tr>\n",
       "    <tr>\n",
       "      <td>50%</td>\n",
       "      <td>144.950365</td>\n",
       "      <td>105.486385</td>\n",
       "      <td>1.0</td>\n",
       "    </tr>\n",
       "    <tr>\n",
       "      <td>75%</td>\n",
       "      <td>149.226765</td>\n",
       "      <td>112.055135</td>\n",
       "      <td>1.0</td>\n",
       "    </tr>\n",
       "    <tr>\n",
       "      <td>max</td>\n",
       "      <td>1777.465435</td>\n",
       "      <td>922.154235</td>\n",
       "      <td>1.0</td>\n",
       "    </tr>\n",
       "  </tbody>\n",
       "</table>\n",
       "</div>"
      ],
      "text/plain": [
       "                 pwr           rpwr     label\n",
       "count  721431.000000  721431.000000  721431.0\n",
       "mean      145.695898      91.867086       1.0\n",
       "std        41.609168      39.781572       0.0\n",
       "min        20.278635     -81.806315       1.0\n",
       "25%       140.624265     100.314385       1.0\n",
       "50%       144.950365     105.486385       1.0\n",
       "75%       149.226765     112.055135       1.0\n",
       "max      1777.465435     922.154235       1.0"
      ]
     },
     "execution_count": 6,
     "metadata": {},
     "output_type": "execute_result"
    }
   ],
   "source": [
    "\n",
    "tmp[tmp['label']==1].describe()"
   ]
  },
  {
   "cell_type": "code",
   "execution_count": 10,
   "metadata": {},
   "outputs": [
    {
     "data": {
      "text/plain": [
       "<matplotlib.collections.PathCollection at 0x7f5a16cf88d0>"
      ]
     },
     "execution_count": 10,
     "metadata": {},
     "output_type": "execute_result"
    },
    {
     "data": {
      "image/png": "[encoded data removed]",
      "text/plain": [
       "<Figure size 1080x504 with 1 Axes>"
      ]
     },
     "metadata": {
      "needs_background": "light"
     },
     "output_type": "display_data"
    }
   ],
   "source": [
    "tmp = globals()['df%s' % 14]\n",
    "fig = plt.figure(figsize=[15,7])\n",
    "plt.plot(tmp.index,tmp['pwr'])\n",
    "\n",
    "\n",
    "cl = tmp['label']==1\n",
    "\n",
    "plt.scatter(tmp.index[cl], tmp['pwr'][cl], color='red') "
   ]
  },
  {
   "cell_type": "code",
   "execution_count": 11,
   "metadata": {},
   "outputs": [
    {
     "data": {
      "text/html": [
       "<div>\n",
       "<style scoped>\n",
       "    .dataframe tbody tr th:only-of-type {\n",
       "        vertical-align: middle;\n",
       "    }\n",
       "\n",
       "    .dataframe tbody tr th {\n",
       "        vertical-align: top;\n",
       "    }\n",
       "\n",
       "    .dataframe thead th {\n",
       "        text-align: right;\n",
       "    }\n",
       "</style>\n",
       "<table border=\"1\" class=\"dataframe\">\n",
       "  <thead>\n",
       "    <tr style=\"text-align: right;\">\n",
       "      <th></th>\n",
       "      <th>pwr</th>\n",
       "      <th>rpwr</th>\n",
       "      <th>label</th>\n",
       "    </tr>\n",
       "  </thead>\n",
       "  <tbody>\n",
       "    <tr>\n",
       "      <td>count</td>\n",
       "      <td>319201.000000</td>\n",
       "      <td>319201.000000</td>\n",
       "      <td>338346.0</td>\n",
       "    </tr>\n",
       "    <tr>\n",
       "      <td>mean</td>\n",
       "      <td>121.863382</td>\n",
       "      <td>371.184869</td>\n",
       "      <td>1.0</td>\n",
       "    </tr>\n",
       "    <tr>\n",
       "      <td>std</td>\n",
       "      <td>219.206138</td>\n",
       "      <td>332.724822</td>\n",
       "      <td>0.0</td>\n",
       "    </tr>\n",
       "    <tr>\n",
       "      <td>min</td>\n",
       "      <td>0.000000</td>\n",
       "      <td>-90.288751</td>\n",
       "      <td>1.0</td>\n",
       "    </tr>\n",
       "    <tr>\n",
       "      <td>25%</td>\n",
       "      <td>0.000000</td>\n",
       "      <td>-4.492151</td>\n",
       "      <td>1.0</td>\n",
       "    </tr>\n",
       "    <tr>\n",
       "      <td>50%</td>\n",
       "      <td>128.820203</td>\n",
       "      <td>367.383049</td>\n",
       "      <td>1.0</td>\n",
       "    </tr>\n",
       "    <tr>\n",
       "      <td>75%</td>\n",
       "      <td>164.518103</td>\n",
       "      <td>686.797349</td>\n",
       "      <td>1.0</td>\n",
       "    </tr>\n",
       "    <tr>\n",
       "      <td>max</td>\n",
       "      <td>2273.944603</td>\n",
       "      <td>1270.319949</td>\n",
       "      <td>1.0</td>\n",
       "    </tr>\n",
       "  </tbody>\n",
       "</table>\n",
       "</div>"
      ],
      "text/plain": [
       "                 pwr           rpwr     label\n",
       "count  319201.000000  319201.000000  338346.0\n",
       "mean      121.863382     371.184869       1.0\n",
       "std       219.206138     332.724822       0.0\n",
       "min         0.000000     -90.288751       1.0\n",
       "25%         0.000000      -4.492151       1.0\n",
       "50%       128.820203     367.383049       1.0\n",
       "75%       164.518103     686.797349       1.0\n",
       "max      2273.944603    1270.319949       1.0"
      ]
     },
     "execution_count": 11,
     "metadata": {},
     "output_type": "execute_result"
    }
   ],
   "source": [
    "tmp[tmp['label']==1].describe()"
   ]
  }
 ],
 "metadata": {
  "kernelspec": {
   "display_name": "Python 3",
   "language": "python",
   "name": "python3"
  },
  "language_info": {
   "codemirror_mode": {
    "name": "ipython",
    "version": 3
   },
   "file_extension": ".py",
   "mimetype": "text/x-python",
   "name": "python",
   "nbconvert_exporter": "python",
   "pygments_lexer": "ipython3",
   "version": "3.7.5"
  }
 },
 "nbformat": 4,
 "nbformat_minor": 2
}
