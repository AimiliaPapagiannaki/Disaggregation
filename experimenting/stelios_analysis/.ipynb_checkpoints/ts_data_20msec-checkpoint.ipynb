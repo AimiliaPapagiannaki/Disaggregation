{
 "cells": [
  {
   "cell_type": "code",
   "execution_count": null,
   "metadata": {
    "scrolled": true
   },
   "outputs": [],
   "source": [
    "#!/usr/bin/env python3\n",
    "\n",
    "import sys\n",
    "import pandas as pd\n",
    "import datetime\n",
    "import requests\n",
    "import numpy as np\n",
    "from pandas import ExcelWriter\n",
    "import os\n",
    "import pytz\n",
    "from dateutil.tz import gettz\n",
    "from datetime import timedelta\n",
    "import time"
   ]
  },
  {
   "cell_type": "code",
   "execution_count": null,
   "metadata": {
    "scrolled": true
   },
   "outputs": [],
   "source": [
    "def read_data(devid, acc_token, address, start_time, end_time, descriptors):\n",
    "\n",
    "\n",
    "    r2 = requests.get(\n",
    "        url=address + \"/api/plugins/telemetry/DEVICE/\" + devid + \"/values/timeseries?keys=\" + descriptors + \"&startTs=\" + start_time + \"&endTs=\" + end_time + \"&agg=NONE&limit=1000000\",\n",
    "        headers={'Content-Type': 'application/json', 'Accept': '*/*', 'X-Authorization': acc_token}).json()\n",
    "    if r2:\n",
    "        df = pd.DataFrame([])\n",
    "\n",
    "        for desc in r2.keys():\n",
    "            df1 = pd.DataFrame(r2[desc])\n",
    "            df1.set_index('ts', inplace=True)\n",
    "            df1.columns = [str(desc)]\n",
    "            df = pd.concat([df, df1], axis=1)\n",
    "\n",
    "        \n",
    "        if df.empty == False:\n",
    "\n",
    "            df.reset_index(drop=False, inplace=True)\n",
    "            df = df.sort_values(by=['ts'])\n",
    "            df.reset_index(drop=True, inplace=True)\n",
    "            df.set_index('ts', inplace=True, drop=True)\n",
    "            for col in df.columns:\n",
    "                df[col] = df[col].astype('float')\n",
    "\n",
    "            df = df.groupby(df.index).max()\n",
    "            \n",
    "        else:\n",
    "            df = pd.DataFrame([])\n",
    "    else:\n",
    "        df = pd.DataFrame([])\n",
    "#         print('Empty json!')\n",
    "    return df"
   ]
  },
  {
   "cell_type": "code",
   "execution_count": null,
   "metadata": {
    "scrolled": true
   },
   "outputs": [],
   "source": [
    "devid = '4353f360-98d6-11ea-8d54-4d0d5d00237b'\n",
    "descriptors = 'pwrA,rpwrA,screA,vltA,curA'\n",
    "start_time=[1592086800000]\n",
    "end_time = [1592100660000]\n",
    "\n",
    "address = \"http://52.77.235.183:8080\"\n",
    "\n",
    "r = requests.post(address + \"/api/auth/login\",\n",
    "                  json={'username': 'tenant@thingsboard.org', 'password': 'tenant'}).json()\n",
    "\n",
    "# acc_token is the token to be used in the next request\n",
    "acc_token = 'Bearer' + ' ' + r['token']\n",
    "\n",
    "\n",
    "timediff = int(end_time[0])-int(start_time[0])\n",
    "\n",
    "# if difference between end and start time is greater than 30 minutes, split data \n",
    "\n",
    "summary = pd.DataFrame([])\n",
    "svec = np.arange(int(start_time[0]),int(end_time[0]),1800000)\n",
    "for st in svec:\n",
    "    en = st+1800000-1\n",
    "\n",
    "    if int(end_time[0])-en<=0: en = int(end_time[0])\n",
    "\n",
    "    tmp = read_data(devid, acc_token, address, str(st), str(en), descriptors)\n",
    "    if not tmp.empty:\n",
    "        summary = pd.concat([summary,tmp])\n",
    "\n",
    "\n"
   ]
  },
  {
   "cell_type": "code",
   "execution_count": null,
   "metadata": {
    "scrolled": true
   },
   "outputs": [],
   "source": [
    "# convert unix timestamps to datetime at local timezone\n",
    "\n",
    "summary['ts'] = pd.to_datetime(summary.index,utc=True, unit='ms')\n",
    "summary['ts'] = summary['ts'].dt.tz_convert('Europe/Athens')\n",
    "\n",
    "summary.set_index('ts',inplace=True, drop=True)\n",
    "summary.columns = ['Active power','Reactive power','Crest factor','Voltage','Current']\n"
   ]
  },
  {
   "cell_type": "code",
   "execution_count": null,
   "metadata": {
    "scrolled": true
   },
   "outputs": [],
   "source": [
    "# save to csv\n",
    "\n",
    "summary.to_csv('ts_with_pattern.csv')"
   ]
  }
 ],
 "metadata": {
  "kernelspec": {
   "display_name": "Python 3",
   "language": "python",
   "name": "python3"
  },
  "language_info": {
   "codemirror_mode": {
    "name": "ipython",
    "version": 3
   },
   "file_extension": ".py",
   "mimetype": "text/x-python",
   "name": "python",
   "nbconvert_exporter": "python",
   "pygments_lexer": "ipython3",
   "version": "3.7.5"
  }
 },
 "nbformat": 4,
 "nbformat_minor": 2
}
