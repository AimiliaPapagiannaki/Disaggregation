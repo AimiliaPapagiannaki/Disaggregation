{
 "cells": [
  {
   "cell_type": "code",
   "execution_count": 1,
   "metadata": {},
   "outputs": [],
   "source": [
    "#!/usr/bin/env python3\n",
    "\n",
    "import sys\n",
    "import pandas as pd\n",
    "import datetime\n",
    "import requests\n",
    "import numpy as np\n",
    "from pandas import ExcelWriter\n",
    "import os\n",
    "import glob\n",
    "import pytz\n",
    "from dateutil.tz import gettz\n",
    "import timeit\n",
    "# from datetime import datetime\n",
    "from datetime import timedelta\n",
    "import time\n"
   ]
  },
  {
   "cell_type": "code",
   "execution_count": 3,
   "metadata": {},
   "outputs": [],
   "source": [
    "\n",
    "\n",
    "#\n",
    "\n",
    "def read_data(devid, acc_token, address, start_time, end_time, descriptors):\n",
    "\n",
    "\n",
    "    r2 = requests.get(\n",
    "        url=address + \"/api/plugins/telemetry/DEVICE/\" + devid + \"/values/timeseries?keys=\" + descriptors + \"&startTs=\" + start_time + \"&endTs=\" + end_time + \"&agg=NONE&limit=1000000\",\n",
    "        headers={'Content-Type': 'application/json', 'Accept': '*/*', 'X-Authorization': acc_token}).json()\n",
    "\n",
    "    if r2:\n",
    "        df = pd.DataFrame([])\n",
    "\n",
    "        for desc in r2.keys():\n",
    "            df1 = pd.DataFrame(r2[desc])\n",
    "            df1.set_index('ts', inplace=True)\n",
    "            df1.columns = [str(desc)]\n",
    "            df = pd.concat([df, df1], axis=1)\n",
    "\n",
    "\n",
    "        if df.empty == False:\n",
    "\n",
    "            df.reset_index(drop=False, inplace=True)\n",
    "            df = df.sort_values(by=['ts'])\n",
    "            df.reset_index(drop=True, inplace=True)\n",
    "            df.set_index('ts', inplace=True, drop=True)\n",
    "            for col in df.columns:\n",
    "                df[col] = df[col].astype('float')\n",
    "\n",
    "            df = df.groupby(df.index).max()\n",
    "\n",
    "        else:\n",
    "            df = pd.DataFrame([])\n",
    "    else:\n",
    "        df = pd.DataFrame([])\n",
    "        print('Empty json!')\n",
    "    return df\n",
    "\n",
    "\n",
    "\n",
    "\n",
    "\n"
   ]
  },
  {
   "cell_type": "code",
   "execution_count": null,
   "metadata": {
    "scrolled": true
   },
   "outputs": [],
   "source": [
    "\n",
    "devid = '4353f360-98d6-11ea-8d54-4d0d5d00237b'\n",
    "descriptors = 'pwrA,pwrB,pwrC,apwrA,apwrB,apwrC,rpwrA,rpwrB,rpwrC'\n",
    "start_time = [1589749200000]\n",
    "end_time = [1589835599999]\n",
    "\n",
    "for i in range(1,11):\n",
    "    start_time.append(end_time[i-1]+1)\n",
    "    end_time.append(end_time[i-1]+86400000)\n",
    "\n",
    "\n",
    "for i in range(9,10):\n",
    "    filename = '../../Desktop/windowsshare/stelios_data/house_data/data_day_'+str(i)+'.csv'\n",
    "\n",
    "    address = \"http://52.77.235.183:8080\"\n",
    "\n",
    "    r = requests.post(address + \"/api/auth/login\",\n",
    "                      json={'username': 'tenant@thingsboard.org', 'password': 'tenant'}).json()\n",
    "\n",
    "    # acc_token is the token to be used in the next request\n",
    "    acc_token = 'Bearer' + ' ' + r['token']\n",
    "\n",
    "\n",
    "    timediff = int(end_time[i])-int(start_time[i])\n",
    "\n",
    "    # if difference between end and start time is greater than 5 minutes, split data \n",
    "    if timediff<900000:\n",
    "        summary = read_data(devid, acc_token, address, str(start_time[i]), str(end_time[i]), descriptors)\n",
    "\n",
    "        if not summary.empty:\n",
    "            summary.to_csv(filename, index=True)\n",
    "    else:\n",
    "        #print('time requested larger than 5 minutes...')\n",
    "        svec = np.arange(int(start_time[i]),int(end_time[i]),900000)\n",
    "        for st in svec:\n",
    "            en = st+900000-1\n",
    "\n",
    "            if int(end_time[i])-en<=0: en = int(end_time[i])\n",
    "    #         print('start and end of iteration:',st,en)\n",
    "\n",
    "            summary = read_data(devid, acc_token, address, str(st), str(en), descriptors)\n",
    "            if not summary.empty:\n",
    "                if os.path.isfile(filename)==False:\n",
    "                    summary.to_csv(filename, index=True)\n",
    "                else:\n",
    "                    summary.to_csv(filename, index=True,mode='a', header=False)\n",
    "\n"
   ]
  },
  {
   "cell_type": "code",
   "execution_count": 16,
   "metadata": {},
   "outputs": [
    {
     "data": {
      "text/html": [
       "<div>\n",
       "<style scoped>\n",
       "    .dataframe tbody tr th:only-of-type {\n",
       "        vertical-align: middle;\n",
       "    }\n",
       "\n",
       "    .dataframe tbody tr th {\n",
       "        vertical-align: top;\n",
       "    }\n",
       "\n",
       "    .dataframe thead th {\n",
       "        text-align: right;\n",
       "    }\n",
       "</style>\n",
       "<table border=\"1\" class=\"dataframe\">\n",
       "  <thead>\n",
       "    <tr style=\"text-align: right;\">\n",
       "      <th></th>\n",
       "      <th>pwrA</th>\n",
       "    </tr>\n",
       "    <tr>\n",
       "      <th>ts</th>\n",
       "      <th></th>\n",
       "    </tr>\n",
       "  </thead>\n",
       "  <tbody>\n",
       "    <tr>\n",
       "      <td>2020-06-12 00:00:57+03:00</td>\n",
       "      <td>0.139</td>\n",
       "    </tr>\n",
       "    <tr>\n",
       "      <td>2020-06-12 00:01:57+03:00</td>\n",
       "      <td>0.122</td>\n",
       "    </tr>\n",
       "    <tr>\n",
       "      <td>2020-06-12 00:02:57+03:00</td>\n",
       "      <td>0.140</td>\n",
       "    </tr>\n",
       "    <tr>\n",
       "      <td>2020-06-12 00:03:57+03:00</td>\n",
       "      <td>0.145</td>\n",
       "    </tr>\n",
       "    <tr>\n",
       "      <td>2020-06-12 00:04:57+03:00</td>\n",
       "      <td>0.135</td>\n",
       "    </tr>\n",
       "  </tbody>\n",
       "</table>\n",
       "</div>"
      ],
      "text/plain": [
       "                            pwrA\n",
       "ts                              \n",
       "2020-06-12 00:00:57+03:00  0.139\n",
       "2020-06-12 00:01:57+03:00  0.122\n",
       "2020-06-12 00:02:57+03:00  0.140\n",
       "2020-06-12 00:03:57+03:00  0.145\n",
       "2020-06-12 00:04:57+03:00  0.135"
      ]
     },
     "execution_count": 16,
     "metadata": {},
     "output_type": "execute_result"
    }
   ],
   "source": [
    "#### download plug data from m3\n",
    "\n",
    "devid = 'd5ab7e20-61f1-11ea-9dd1-ab3b9dbab99c'\n",
    "descriptors = 'pwrA'\n",
    "start_time = [1591909200000] #12/6/2020\n",
    "end_time = [1591995600000]\n",
    "\n",
    "\n",
    "\n",
    "address = \"https://m3.meazon.com\"\n",
    "\n",
    "r = requests.post(address + \"/api/auth/login\",\n",
    "                  json={'username': 'meazon@thingsboard.org', 'password': 'meazon'}).json()\n",
    "\n",
    "# acc_token is the token to be used in the next request\n",
    "acc_token = 'Bearer' + ' ' + r['token']\n",
    "summary = read_data(devid, acc_token, address, str(start_time[0]), str(end_time[0]), descriptors)\n",
    "summary['ts'] = pd.to_datetime(summary.index,utc=True, unit='ms')\n",
    "summary['ts'] = summary['ts'].dt.tz_convert('Europe/Athens')\n",
    "\n",
    "summary.set_index('ts',inplace=True, drop=True)\n",
    "# summary = summary.resample('1S').mean()\n",
    "\n",
    "summary.head()"
   ]
  },
  {
   "cell_type": "code",
   "execution_count": 23,
   "metadata": {},
   "outputs": [
    {
     "data": {
      "text/plain": [
       "Text(0.5, 1.0, 'Washing machine operation monitored with plug')"
      ]
     },
     "execution_count": 23,
     "metadata": {},
     "output_type": "execute_result"
    },
    {
     "data": {
      "image/png": "[encoded data removed]",
      "text/plain": [
       "<Figure size 1080x504 with 1 Axes>"
      ]
     },
     "metadata": {
      "needs_background": "light"
     },
     "output_type": "display_data"
    }
   ],
   "source": [
    "import matplotlib.pyplot as plt\n",
    "%matplotlib inline\n",
    "fig = plt.figure(figsize=[15,7])\n",
    "plt.plot(summary.index,summary['pwrA'],'purple',alpha=0.7)#,df2.index,df2['rpwrB'])\n",
    "plt.xlabel('Date')\n",
    "plt.ylabel('Active power in Watts')\n",
    "plt.title('Washing machine operation monitored with plug')"
   ]
  },
  {
   "cell_type": "code",
   "execution_count": null,
   "metadata": {},
   "outputs": [],
   "source": []
  }
 ],
 "metadata": {
  "kernelspec": {
   "display_name": "Python 3",
   "language": "python",
   "name": "python3"
  },
  "language_info": {
   "codemirror_mode": {
    "name": "ipython",
    "version": 3
   },
   "file_extension": ".py",
   "mimetype": "text/x-python",
   "name": "python",
   "nbconvert_exporter": "python",
   "pygments_lexer": "ipython3",
   "version": "3.6.9"
  }
 },
 "nbformat": 4,
 "nbformat_minor": 2
}
