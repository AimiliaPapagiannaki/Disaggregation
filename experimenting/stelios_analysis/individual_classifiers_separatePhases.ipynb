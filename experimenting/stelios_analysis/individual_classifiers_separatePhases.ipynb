{
 "cells": [
  {
   "cell_type": "code",
   "execution_count": 49,
   "metadata": {},
   "outputs": [],
   "source": [
    "import pandas as pd\n",
    "import numpy as np\n",
    "import matplotlib.pyplot as plt\n",
    "import scipy as sp\n",
    "import requests\n",
    "import os\n",
    "import scipy.signal\n",
    "import scipy.stats\n",
    "from sklearn.tree import DecisionTreeClassifier\n",
    "from sklearn.metrics import mean_absolute_error\n",
    "from sklearn.model_selection import cross_val_score\n",
    "from sklearn.metrics import accuracy_score\n",
    "from sklearn.model_selection import train_test_split\n",
    "from sklearn.model_selection import StratifiedKFold\n",
    "from sklearn.model_selection import train_test_split\n",
    "from sklearn.neighbors import KNeighborsClassifier\n",
    "from sklearn import preprocessing\n",
    "from sklearn.model_selection import KFold\n",
    "import pickle\n",
    "from scipy.stats import kurtosis\n",
    "from dateutil.relativedelta import relativedelta\n",
    "import time\n",
    "from dateutil.tz import gettz\n",
    "from datetime import timedelta\n",
    "import calendar\n",
    "import datetime\n",
    "# from hyperopt import STATUS_OK, Trials, fmin, hp, tpe\n",
    "# import xgboost as xgb\n",
    "%matplotlib inline\n",
    "pd.set_option('display.max_rows', 50000)\n",
    "pd.set_option('display.max_columns', 50000)\n",
    "\n",
    "step = 10\n"
   ]
  },
  {
   "cell_type": "code",
   "execution_count": 50,
   "metadata": {},
   "outputs": [
    {
     "name": "stdout",
     "output_type": "stream",
     "text": [
      "['coffee', 'dish', 'entilator', 'freezer', 'fridge', 'heatpumpA', 'heatpumpB', 'heatpumpC', 'iron', 'ironpress', 'oven', 'PC', 'stove', 'vacuum', 'wash']\n"
     ]
    }
   ],
   "source": [
    "path = '../../Desktop/windowsshare/stelios_data/plug_data/'\n",
    "dr = os.listdir(path)\n",
    "apps = [i.split('.', 1)[0] for i in dr]\n",
    "appsA = [apps[2],apps[4],apps[5],apps[10],apps[12],apps[13],apps[14]]\n",
    "appsB = [apps[0],apps[1],apps[3],apps[6]]\n",
    "appsC = [apps[7],apps[8],apps[9],apps[11]]\n",
    "appsall = [appsA,appsB,appsC]\n",
    "print(apps)"
   ]
  },
  {
   "cell_type": "code",
   "execution_count": 51,
   "metadata": {},
   "outputs": [],
   "source": [
    "for i in range(len(dr)):\n",
    "    globals()['df%s' % i] = pd.read_csv(path+dr[i])\n",
    "    if np.mod(globals()['df%s' % i].shape[0],step)>0:\n",
    "        globals()['df%s' % i] = globals()['df%s' % i].iloc[:-np.mod(globals()['df%s' % i].shape[0],step)]\n",
    "    if 'ts' in globals()['df%s' % i].columns:\n",
    "        globals()['df%s' % i].drop('ts',axis=1, inplace=True)\n",
    "    if 'Unnamed: 0' in globals()['df%s' % i].columns:\n",
    "        globals()['df%s' % i].drop('Unnamed: 0',axis=1, inplace=True)\n",
    "#     print(globals()['df%s' % i].columns)\n",
    "    globals()['df%s' % i].columns = ['pwr','apwr','rpwr','label']\n",
    "    globals()['df%s' % i].drop('apwr',axis=1, inplace=True)\n",
    "    \n",
    "        "
   ]
  },
  {
   "cell_type": "code",
   "execution_count": 52,
   "metadata": {},
   "outputs": [],
   "source": [
    "dfsA = [globals()['df%s' % 2],globals()['df%s' % 4],globals()['df%s' % 5],globals()['df%s' % 10],globals()['df%s' % 12],globals()['df%s' % 13],globals()['df%s' % 14]]\n",
    "\n",
    "dfsB = [globals()['df%s' % 0],globals()['df%s' % 1],globals()['df%s' % 3],globals()['df%s' % 6]]\n",
    "\n",
    "dfsC = [globals()['df%s' % 7],globals()['df%s' % 8],globals()['df%s' % 9],globals()['df%s' % 11]]\n",
    "\n",
    "dfsall = [dfsA,dfsB,dfsC]\n"
   ]
  },
  {
   "cell_type": "code",
   "execution_count": 55,
   "metadata": {
    "scrolled": true
   },
   "outputs": [
    {
     "name": "stdout",
     "output_type": "stream",
     "text": [
      "finished entilator\n"
     ]
    },
    {
     "name": "stderr",
     "output_type": "stream",
     "text": [
      "/usr/local/lib/python3.7/dist-packages/pandas/core/indexing.py:205: SettingWithCopyWarning: \n",
      "A value is trying to be set on a copy of a slice from a DataFrame\n",
      "\n",
      "See the caveats in the documentation: http://pandas.pydata.org/pandas-docs/stable/user_guide/indexing.html#returning-a-view-versus-a-copy\n",
      "  self._setitem_with_indexer(indexer, value)\n"
     ]
    },
    {
     "name": "stdout",
     "output_type": "stream",
     "text": [
      "finished fridge\n"
     ]
    },
    {
     "name": "stderr",
     "output_type": "stream",
     "text": [
      "/usr/local/lib/python3.7/dist-packages/pandas/core/indexing.py:205: SettingWithCopyWarning: \n",
      "A value is trying to be set on a copy of a slice from a DataFrame\n",
      "\n",
      "See the caveats in the documentation: http://pandas.pydata.org/pandas-docs/stable/user_guide/indexing.html#returning-a-view-versus-a-copy\n",
      "  self._setitem_with_indexer(indexer, value)\n"
     ]
    },
    {
     "name": "stdout",
     "output_type": "stream",
     "text": [
      "finished heatpumpA\n"
     ]
    },
    {
     "name": "stderr",
     "output_type": "stream",
     "text": [
      "/usr/local/lib/python3.7/dist-packages/pandas/core/indexing.py:205: SettingWithCopyWarning: \n",
      "A value is trying to be set on a copy of a slice from a DataFrame\n",
      "\n",
      "See the caveats in the documentation: http://pandas.pydata.org/pandas-docs/stable/user_guide/indexing.html#returning-a-view-versus-a-copy\n",
      "  self._setitem_with_indexer(indexer, value)\n"
     ]
    },
    {
     "name": "stdout",
     "output_type": "stream",
     "text": [
      "finished oven\n"
     ]
    },
    {
     "name": "stderr",
     "output_type": "stream",
     "text": [
      "/usr/local/lib/python3.7/dist-packages/pandas/core/indexing.py:205: SettingWithCopyWarning: \n",
      "A value is trying to be set on a copy of a slice from a DataFrame\n",
      "\n",
      "See the caveats in the documentation: http://pandas.pydata.org/pandas-docs/stable/user_guide/indexing.html#returning-a-view-versus-a-copy\n",
      "  self._setitem_with_indexer(indexer, value)\n"
     ]
    },
    {
     "name": "stdout",
     "output_type": "stream",
     "text": [
      "finished stove\n"
     ]
    },
    {
     "name": "stderr",
     "output_type": "stream",
     "text": [
      "/usr/local/lib/python3.7/dist-packages/pandas/core/indexing.py:205: SettingWithCopyWarning: \n",
      "A value is trying to be set on a copy of a slice from a DataFrame\n",
      "\n",
      "See the caveats in the documentation: http://pandas.pydata.org/pandas-docs/stable/user_guide/indexing.html#returning-a-view-versus-a-copy\n",
      "  self._setitem_with_indexer(indexer, value)\n"
     ]
    },
    {
     "name": "stdout",
     "output_type": "stream",
     "text": [
      "finished vacuum\n"
     ]
    },
    {
     "name": "stderr",
     "output_type": "stream",
     "text": [
      "/usr/local/lib/python3.7/dist-packages/pandas/core/indexing.py:205: SettingWithCopyWarning: \n",
      "A value is trying to be set on a copy of a slice from a DataFrame\n",
      "\n",
      "See the caveats in the documentation: http://pandas.pydata.org/pandas-docs/stable/user_guide/indexing.html#returning-a-view-versus-a-copy\n",
      "  self._setitem_with_indexer(indexer, value)\n"
     ]
    },
    {
     "name": "stdout",
     "output_type": "stream",
     "text": [
      "finished wash\n"
     ]
    },
    {
     "name": "stderr",
     "output_type": "stream",
     "text": [
      "/usr/local/lib/python3.7/dist-packages/pandas/core/indexing.py:205: SettingWithCopyWarning: \n",
      "A value is trying to be set on a copy of a slice from a DataFrame\n",
      "\n",
      "See the caveats in the documentation: http://pandas.pydata.org/pandas-docs/stable/user_guide/indexing.html#returning-a-view-versus-a-copy\n",
      "  self._setitem_with_indexer(indexer, value)\n"
     ]
    },
    {
     "name": "stdout",
     "output_type": "stream",
     "text": [
      "finished coffee\n"
     ]
    },
    {
     "name": "stderr",
     "output_type": "stream",
     "text": [
      "/usr/local/lib/python3.7/dist-packages/pandas/core/indexing.py:205: SettingWithCopyWarning: \n",
      "A value is trying to be set on a copy of a slice from a DataFrame\n",
      "\n",
      "See the caveats in the documentation: http://pandas.pydata.org/pandas-docs/stable/user_guide/indexing.html#returning-a-view-versus-a-copy\n",
      "  self._setitem_with_indexer(indexer, value)\n"
     ]
    },
    {
     "name": "stdout",
     "output_type": "stream",
     "text": [
      "finished dish\n"
     ]
    },
    {
     "name": "stderr",
     "output_type": "stream",
     "text": [
      "/usr/local/lib/python3.7/dist-packages/pandas/core/indexing.py:205: SettingWithCopyWarning: \n",
      "A value is trying to be set on a copy of a slice from a DataFrame\n",
      "\n",
      "See the caveats in the documentation: http://pandas.pydata.org/pandas-docs/stable/user_guide/indexing.html#returning-a-view-versus-a-copy\n",
      "  self._setitem_with_indexer(indexer, value)\n"
     ]
    },
    {
     "name": "stdout",
     "output_type": "stream",
     "text": [
      "finished freezer\n"
     ]
    },
    {
     "name": "stderr",
     "output_type": "stream",
     "text": [
      "/usr/local/lib/python3.7/dist-packages/pandas/core/indexing.py:205: SettingWithCopyWarning: \n",
      "A value is trying to be set on a copy of a slice from a DataFrame\n",
      "\n",
      "See the caveats in the documentation: http://pandas.pydata.org/pandas-docs/stable/user_guide/indexing.html#returning-a-view-versus-a-copy\n",
      "  self._setitem_with_indexer(indexer, value)\n"
     ]
    },
    {
     "name": "stdout",
     "output_type": "stream",
     "text": [
      "finished heatpumpB\n"
     ]
    },
    {
     "name": "stderr",
     "output_type": "stream",
     "text": [
      "/usr/local/lib/python3.7/dist-packages/pandas/core/indexing.py:205: SettingWithCopyWarning: \n",
      "A value is trying to be set on a copy of a slice from a DataFrame\n",
      "\n",
      "See the caveats in the documentation: http://pandas.pydata.org/pandas-docs/stable/user_guide/indexing.html#returning-a-view-versus-a-copy\n",
      "  self._setitem_with_indexer(indexer, value)\n"
     ]
    },
    {
     "name": "stdout",
     "output_type": "stream",
     "text": [
      "finished heatpumpC\n"
     ]
    },
    {
     "name": "stderr",
     "output_type": "stream",
     "text": [
      "/usr/local/lib/python3.7/dist-packages/pandas/core/indexing.py:205: SettingWithCopyWarning: \n",
      "A value is trying to be set on a copy of a slice from a DataFrame\n",
      "\n",
      "See the caveats in the documentation: http://pandas.pydata.org/pandas-docs/stable/user_guide/indexing.html#returning-a-view-versus-a-copy\n",
      "  self._setitem_with_indexer(indexer, value)\n"
     ]
    },
    {
     "name": "stdout",
     "output_type": "stream",
     "text": [
      "finished iron\n"
     ]
    },
    {
     "name": "stderr",
     "output_type": "stream",
     "text": [
      "/usr/local/lib/python3.7/dist-packages/pandas/core/indexing.py:205: SettingWithCopyWarning: \n",
      "A value is trying to be set on a copy of a slice from a DataFrame\n",
      "\n",
      "See the caveats in the documentation: http://pandas.pydata.org/pandas-docs/stable/user_guide/indexing.html#returning-a-view-versus-a-copy\n",
      "  self._setitem_with_indexer(indexer, value)\n"
     ]
    },
    {
     "name": "stdout",
     "output_type": "stream",
     "text": [
      "finished ironpress\n"
     ]
    },
    {
     "name": "stderr",
     "output_type": "stream",
     "text": [
      "/usr/local/lib/python3.7/dist-packages/pandas/core/indexing.py:205: SettingWithCopyWarning: \n",
      "A value is trying to be set on a copy of a slice from a DataFrame\n",
      "\n",
      "See the caveats in the documentation: http://pandas.pydata.org/pandas-docs/stable/user_guide/indexing.html#returning-a-view-versus-a-copy\n",
      "  self._setitem_with_indexer(indexer, value)\n"
     ]
    },
    {
     "name": "stdout",
     "output_type": "stream",
     "text": [
      "finished PC\n"
     ]
    }
   ],
   "source": [
    "cols = ['pwr','rpwr']\n",
    "\n",
    "for j in range(0,len(dfsall)):\n",
    "    dfs = dfsall[j]\n",
    "    apps = appsall[j]\n",
    "    for i in range(len(dfs)):\n",
    "    # for i in range(2,3):\n",
    "        dfcurr = dfs[i].copy()\n",
    "        dfcurr = pd.concat(sorted(dfs, key=lambda df: df is dfs[i],reverse=True))\n",
    "        dfcurr['label'].iloc[dfs[i].shape[0]+1:]=0\n",
    "\n",
    "        df_pr = pd.DataFrame([])\n",
    "        for col in cols:\n",
    "            df_pr[col+'_mean'] = dfcurr[col].groupby(np.arange(len(dfcurr))//step).mean()\n",
    "            df_pr[col+'_std'] = dfcurr[col].groupby(np.arange(len(dfcurr))//step).std()\n",
    "            df_pr[col+'_min'] = dfcurr[col].groupby(np.arange(len(dfcurr))//step).min()\n",
    "            df_pr[col+'_max'] = dfcurr[col].groupby(np.arange(len(dfcurr))//step).max()\n",
    "#             df_pr[col+'_skew'] = dfcurr[col].groupby(np.arange(len(dfcurr))//step).skew()\n",
    "#             df_pr[col+'_kurt'] = dfcurr[col].groupby(np.arange(len(dfcurr))//step).apply(pd.Series.kurt)\n",
    "        df_pr['label'] = dfcurr['label'].groupby(np.arange(len(dfcurr))//step).agg(lambda x:x.value_counts().index[0])\n",
    "        df_pr = df_pr.dropna()\n",
    "\n",
    "        y = df_pr['label'].values\n",
    "        X_hd = df_pr.drop('label',axis=1)\n",
    "        # X = preprocessing.MinMaxScaler().fit_transform(X)\n",
    "\n",
    "        # split into training and test sets and train the model\n",
    "\n",
    "        # mdl_hd = KNeighborsClassifier(n_neighbors=5)\n",
    "        globals()['%s' % apps[i]] = DecisionTreeClassifier(random_state=0,max_depth=50)\n",
    "    #     X_train, X_test, y_train, y_test = train_test_split(X_hd, y,\n",
    "    #                                                         stratify=y, \n",
    "    #                                                         test_size=0.25)\n",
    "\n",
    "        globals()['%s' % apps[i]] = globals()['%s' % apps[i]].fit(X_hd,y)\n",
    "\n",
    "        filename = '../../Desktop/windowsshare/stelios_data/models/%s' % apps[i]+'.sav'\n",
    "        pickle.dump(globals()['%s' % apps[i]], open(filename, 'wb'))\n",
    "\n",
    "        y_pred = globals()['%s' % apps[i]].predict(X_hd)\n",
    "        print('finished',apps[i])\n",
    "    #     acc = accuracy_score(y, y_pred)\n",
    "    #     print(acc)"
   ]
  },
  {
   "cell_type": "code",
   "execution_count": 30,
   "metadata": {},
   "outputs": [
    {
     "data": {
      "text/plain": [
       "<matplotlib.collections.PathCollection at 0x7f91982c2890>"
      ]
     },
     "execution_count": 30,
     "metadata": {},
     "output_type": "execute_result"
    },
    {
     "data": {
      "image/png": "[encoded data removed]",
      "text/plain": [
       "<Figure size 1080x504 with 1 Axes>"
      ]
     },
     "metadata": {
      "needs_background": "light"
     },
     "output_type": "display_data"
    }
   ],
   "source": [
    "tmp = globals()['df%s' % 7]\n",
    "fig = plt.figure(figsize=[15,7])\n",
    "plt.plot(tmp.index,tmp['pwr'])\n",
    "\n",
    "\n",
    "cl = tmp['label']==1\n",
    "\n",
    "plt.scatter(tmp.index[cl], tmp['pwr'][cl], color='red') "
   ]
  },
  {
   "cell_type": "code",
   "execution_count": 31,
   "metadata": {},
   "outputs": [
    {
     "data": {
      "text/html": [
       "<div>\n",
       "<style scoped>\n",
       "    .dataframe tbody tr th:only-of-type {\n",
       "        vertical-align: middle;\n",
       "    }\n",
       "\n",
       "    .dataframe tbody tr th {\n",
       "        vertical-align: top;\n",
       "    }\n",
       "\n",
       "    .dataframe thead th {\n",
       "        text-align: right;\n",
       "    }\n",
       "</style>\n",
       "<table border=\"1\" class=\"dataframe\">\n",
       "  <thead>\n",
       "    <tr style=\"text-align: right;\">\n",
       "      <th></th>\n",
       "      <th>pwr</th>\n",
       "      <th>rpwr</th>\n",
       "      <th>label</th>\n",
       "    </tr>\n",
       "  </thead>\n",
       "  <tbody>\n",
       "    <tr>\n",
       "      <td>count</td>\n",
       "      <td>33362.000000</td>\n",
       "      <td>33362.000000</td>\n",
       "      <td>33362.0</td>\n",
       "    </tr>\n",
       "    <tr>\n",
       "      <td>mean</td>\n",
       "      <td>678.175755</td>\n",
       "      <td>13.878012</td>\n",
       "      <td>1.0</td>\n",
       "    </tr>\n",
       "    <tr>\n",
       "      <td>std</td>\n",
       "      <td>293.366246</td>\n",
       "      <td>78.605445</td>\n",
       "      <td>0.0</td>\n",
       "    </tr>\n",
       "    <tr>\n",
       "      <td>min</td>\n",
       "      <td>30.015470</td>\n",
       "      <td>-854.271180</td>\n",
       "      <td>1.0</td>\n",
       "    </tr>\n",
       "    <tr>\n",
       "      <td>25%</td>\n",
       "      <td>494.322970</td>\n",
       "      <td>-14.355780</td>\n",
       "      <td>1.0</td>\n",
       "    </tr>\n",
       "    <tr>\n",
       "      <td>50%</td>\n",
       "      <td>695.420620</td>\n",
       "      <td>-5.382880</td>\n",
       "      <td>1.0</td>\n",
       "    </tr>\n",
       "    <tr>\n",
       "      <td>75%</td>\n",
       "      <td>928.802370</td>\n",
       "      <td>6.138720</td>\n",
       "      <td>1.0</td>\n",
       "    </tr>\n",
       "    <tr>\n",
       "      <td>max</td>\n",
       "      <td>1127.931170</td>\n",
       "      <td>380.081220</td>\n",
       "      <td>1.0</td>\n",
       "    </tr>\n",
       "  </tbody>\n",
       "</table>\n",
       "</div>"
      ],
      "text/plain": [
       "                pwr          rpwr    label\n",
       "count  33362.000000  33362.000000  33362.0\n",
       "mean     678.175755     13.878012      1.0\n",
       "std      293.366246     78.605445      0.0\n",
       "min       30.015470   -854.271180      1.0\n",
       "25%      494.322970    -14.355780      1.0\n",
       "50%      695.420620     -5.382880      1.0\n",
       "75%      928.802370      6.138720      1.0\n",
       "max     1127.931170    380.081220      1.0"
      ]
     },
     "execution_count": 31,
     "metadata": {},
     "output_type": "execute_result"
    }
   ],
   "source": [
    "\n",
    "tmp[tmp['label']==1].describe()"
   ]
  },
  {
   "cell_type": "code",
   "execution_count": 32,
   "metadata": {},
   "outputs": [
    {
     "data": {
      "text/plain": [
       "<matplotlib.collections.PathCollection at 0x7f9192f1f110>"
      ]
     },
     "execution_count": 32,
     "metadata": {},
     "output_type": "execute_result"
    },
    {
     "data": {
      "image/png": "[encoded data removed]",
      "text/plain": [
       "<Figure size 1080x504 with 1 Axes>"
      ]
     },
     "metadata": {
      "needs_background": "light"
     },
     "output_type": "display_data"
    }
   ],
   "source": [
    "tmp = globals()['df%s' % 11]\n",
    "fig = plt.figure(figsize=[15,7])\n",
    "plt.plot(tmp.index,tmp['pwr'])\n",
    "\n",
    "\n",
    "cl = tmp['label']==1\n",
    "\n",
    "plt.scatter(tmp.index[cl], tmp['pwr'][cl], color='red') "
   ]
  },
  {
   "cell_type": "code",
   "execution_count": 33,
   "metadata": {},
   "outputs": [
    {
     "data": {
      "text/html": [
       "<div>\n",
       "<style scoped>\n",
       "    .dataframe tbody tr th:only-of-type {\n",
       "        vertical-align: middle;\n",
       "    }\n",
       "\n",
       "    .dataframe tbody tr th {\n",
       "        vertical-align: top;\n",
       "    }\n",
       "\n",
       "    .dataframe thead th {\n",
       "        text-align: right;\n",
       "    }\n",
       "</style>\n",
       "<table border=\"1\" class=\"dataframe\">\n",
       "  <thead>\n",
       "    <tr style=\"text-align: right;\">\n",
       "      <th></th>\n",
       "      <th>pwr</th>\n",
       "      <th>rpwr</th>\n",
       "      <th>label</th>\n",
       "    </tr>\n",
       "  </thead>\n",
       "  <tbody>\n",
       "    <tr>\n",
       "      <td>count</td>\n",
       "      <td>475029.000000</td>\n",
       "      <td>475029.000000</td>\n",
       "      <td>475029.0</td>\n",
       "    </tr>\n",
       "    <tr>\n",
       "      <td>mean</td>\n",
       "      <td>122.652148</td>\n",
       "      <td>-54.893676</td>\n",
       "      <td>1.0</td>\n",
       "    </tr>\n",
       "    <tr>\n",
       "      <td>std</td>\n",
       "      <td>47.635739</td>\n",
       "      <td>18.726741</td>\n",
       "      <td>0.0</td>\n",
       "    </tr>\n",
       "    <tr>\n",
       "      <td>min</td>\n",
       "      <td>40.001560</td>\n",
       "      <td>-122.091715</td>\n",
       "      <td>1.0</td>\n",
       "    </tr>\n",
       "    <tr>\n",
       "      <td>25%</td>\n",
       "      <td>78.621960</td>\n",
       "      <td>-72.189315</td>\n",
       "      <td>1.0</td>\n",
       "    </tr>\n",
       "    <tr>\n",
       "      <td>50%</td>\n",
       "      <td>125.844860</td>\n",
       "      <td>-50.711615</td>\n",
       "      <td>1.0</td>\n",
       "    </tr>\n",
       "    <tr>\n",
       "      <td>75%</td>\n",
       "      <td>165.208260</td>\n",
       "      <td>-41.416615</td>\n",
       "      <td>1.0</td>\n",
       "    </tr>\n",
       "    <tr>\n",
       "      <td>max</td>\n",
       "      <td>253.808960</td>\n",
       "      <td>52.597185</td>\n",
       "      <td>1.0</td>\n",
       "    </tr>\n",
       "  </tbody>\n",
       "</table>\n",
       "</div>"
      ],
      "text/plain": [
       "                 pwr           rpwr     label\n",
       "count  475029.000000  475029.000000  475029.0\n",
       "mean      122.652148     -54.893676       1.0\n",
       "std        47.635739      18.726741       0.0\n",
       "min        40.001560    -122.091715       1.0\n",
       "25%        78.621960     -72.189315       1.0\n",
       "50%       125.844860     -50.711615       1.0\n",
       "75%       165.208260     -41.416615       1.0\n",
       "max       253.808960      52.597185       1.0"
      ]
     },
     "execution_count": 33,
     "metadata": {},
     "output_type": "execute_result"
    }
   ],
   "source": [
    "tmp[tmp['label']==1].describe()"
   ]
  }
 ],
 "metadata": {
  "kernelspec": {
   "display_name": "Python 3",
   "language": "python",
   "name": "python3"
  },
  "language_info": {
   "codemirror_mode": {
    "name": "ipython",
    "version": 3
   },
   "file_extension": ".py",
   "mimetype": "text/x-python",
   "name": "python",
   "nbconvert_exporter": "python",
   "pygments_lexer": "ipython3",
   "version": "3.7.5"
  }
 },
 "nbformat": 4,
 "nbformat_minor": 2
}
