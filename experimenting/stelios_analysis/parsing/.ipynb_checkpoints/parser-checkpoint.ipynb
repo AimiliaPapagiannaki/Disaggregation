{
 "cells": [
  {
   "cell_type": "code",
   "execution_count": 1,
   "metadata": {},
   "outputs": [],
   "source": [
    "import numpy as np\n"
   ]
  },
  {
   "cell_type": "code",
   "execution_count": 1,
   "metadata": {},
   "outputs": [],
   "source": [
    "def read_line(s):\n",
    "    ascii = s.readline().decode('ascii').replace(',', '.')\n",
    "    if ascii[0] != 's': return 0\n",
    "    else:\n",
    "        print(ascii)\n",
    "        t = ascii.split('&')\n",
    "        t[2] = 'L=' + t[2][1]\n",
    "        line = [float(v.split('=')[1]) for v in t]\n",
    "        return line"
   ]
  },
  {
   "cell_type": "code",
   "execution_count": null,
   "metadata": {},
   "outputs": [],
   "source": [
    "sN=2971&ms=132590&P1&time=<UTCsec>&S0&avgR=<x,xxx>&avgR=<x,xxx>\n",
    "sN=2971&ms=132590&P1&time=<UTCsec>&S1&avgP=<x,xxx>&minP=<x,xxx>&maxP=<x,xxx>&stdP=<x,xxx>&avgR=<x,xxx>&minR=<x,xxx>&maxR=<x,xxx>&stdR=<x,xxx>\n",
    "\n",
    "fields{'sN':serialNr,'P1':phaseNr,'time':timestampSend,'S0':packetNumber,'avgP':stablePower,'avgR':stableReactive}\n",
    "\n",
    "fields{'minP':minPower,'minR':minimymReactive,'m'}\n"
   ]
  }
 ],
 "metadata": {
  "kernelspec": {
   "display_name": "Python 3",
   "language": "python",
   "name": "python3"
  },
  "language_info": {
   "codemirror_mode": {
    "name": "ipython",
    "version": 3
   },
   "file_extension": ".py",
   "mimetype": "text/x-python",
   "name": "python",
   "nbconvert_exporter": "python",
   "pygments_lexer": "ipython3",
   "version": "3.7.5"
  }
 },
 "nbformat": 4,
 "nbformat_minor": 2
}
