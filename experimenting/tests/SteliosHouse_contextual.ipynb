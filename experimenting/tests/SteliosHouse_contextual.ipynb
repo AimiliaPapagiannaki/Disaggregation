{
 "cells": [
  {
   "cell_type": "code",
   "execution_count": 1,
   "metadata": {},
   "outputs": [],
   "source": [
    "import numpy as np\n",
    "import pandas as pd\n",
    "import requests\n"
   ]
  },
  {
   "cell_type": "markdown",
   "metadata": {},
   "source": [
    "First step is to acquire 1sec at least single appliance data and aggregated data (at the same period).\n",
    "\n",
    "    \n"
   ]
  },
  {
   "cell_type": "code",
   "execution_count": null,
   "metadata": {},
   "outputs": [],
   "source": [
    "# split data to 10sec time frames with 50% overlap\n",
    "\n",
    "\n",
    "# extract 4 features for each time window. Add time contextual feature vectors (3 or 4 maybe)\n",
    " \n",
    "    \n",
    "# ground truth for each device is mean active power. Ghost appliance is total-sum(known appliances)\n",
    "\n",
    "\n",
    "# build regression model for each appliance with 60-40 train-test sets (must not mix data)\n",
    "\n",
    "\n",
    "# Predict power consumption for each appliance on test set"
   ]
  }
 ],
 "metadata": {
  "kernelspec": {
   "display_name": "Python 3",
   "language": "python",
   "name": "python3"
  },
  "language_info": {
   "codemirror_mode": {
    "name": "ipython",
    "version": 3
   },
   "file_extension": ".py",
   "mimetype": "text/x-python",
   "name": "python",
   "nbconvert_exporter": "python",
   "pygments_lexer": "ipython3",
   "version": "3.7.5"
  }
 },
 "nbformat": 4,
 "nbformat_minor": 2
}
